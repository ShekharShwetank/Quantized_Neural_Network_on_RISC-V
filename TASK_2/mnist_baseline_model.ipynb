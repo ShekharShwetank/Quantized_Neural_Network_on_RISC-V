{
 "cells": [
  {
   "cell_type": "code",
   "execution_count": 1,
   "id": "b6f001ff",
   "metadata": {},
   "outputs": [
    {
     "name": "stdout",
     "output_type": "stream",
     "text": [
      "WARNING:tensorflow:From c:\\Users\\shwet\\AppData\\Local\\Programs\\Python\\Python311\\Lib\\site-packages\\keras\\src\\losses.py:2976: The name tf.losses.sparse_softmax_cross_entropy is deprecated. Please use tf.compat.v1.losses.sparse_softmax_cross_entropy instead.\n",
      "\n",
      "Shape of x_train: (60000, 28, 28)\n",
      "Shape of y_train: (60000,)\n",
      "Shape of x_test: (10000, 28, 28)\n",
      "Shape of y_test: (10000,)\n"
     ]
    }
   ],
   "source": [
    "import tensorflow as tf\n",
    "from tensorflow import keras\n",
    "\n",
    "# Load the MNIST dataset\n",
    "(x_train, y_train), (x_test, y_test) = keras.datasets.mnist.load_data()\n",
    "\n",
    "print(f\"Shape of x_train: {x_train.shape}\")\n",
    "print(f\"Shape of y_train: {y_train.shape}\")\n",
    "print(f\"Shape of x_test: {x_test.shape}\")\n",
    "print(f\"Shape of y_test: {y_test.shape}\")"
   ]
  },
  {
   "cell_type": "code",
   "execution_count": 2,
   "id": "9f331a83",
   "metadata": {},
   "outputs": [
    {
     "name": "stdout",
     "output_type": "stream",
     "text": [
      "Shape of x_train after reshaping: (60000, 28, 28, 1)\n",
      "Shape of x_test after reshaping: (10000, 28, 28, 1)\n"
     ]
    }
   ],
   "source": [
    "# Preprocess the data: Reshape images\n",
    "# Images are 28x28 grayscale, so we add a channel dimension of 1\n",
    "x_train = x_train.reshape(-1, 28, 28, 1)\n",
    "x_test = x_test.reshape(-1, 28, 28, 1)\n",
    "\n",
    "print(f\"Shape of x_train after reshaping: {x_train.shape}\")\n",
    "print(f\"Shape of x_test after reshaping: {x_test.shape}\")"
   ]
  },
  {
   "cell_type": "code",
   "execution_count": 3,
   "id": "75feeec6",
   "metadata": {},
   "outputs": [
    {
     "name": "stdout",
     "output_type": "stream",
     "text": [
      "Min pixel value in x_train after normalization: 0.0\n",
      "Max pixel value in x_train after normalization: 1.0\n"
     ]
    }
   ],
   "source": [
    "# Preprocess the data: Normalize pixel values\n",
    "# Convert pixel values from [0, 255] to [0, 1]\n",
    "x_train = x_train.astype(\"float32\") / 255.0\n",
    "x_test = x_test.astype(\"float32\") / 255.0\n",
    "\n",
    "print(f\"Min pixel value in x_train after normalization: {x_train.min()}\")\n",
    "print(f\"Max pixel value in x_train after normalization: {x_train.max()}\")"
   ]
  },
  {
   "cell_type": "code",
   "execution_count": 4,
   "id": "b6af7cbc",
   "metadata": {},
   "outputs": [
    {
     "name": "stdout",
     "output_type": "stream",
     "text": [
      "Shape of y_train after one-hot encoding: (60000, 10)\n",
      "Shape of y_test after one-hot encoding: (10000, 10)\n",
      "Example of one-hot encoded label (first training label): [0. 0. 0. 0. 0. 1. 0. 0. 0. 0.]\n"
     ]
    }
   ],
   "source": [
    "# Preprocess the data: One-hot encode labels\n",
    "# Convert integer labels to one-hot encoded vectors\n",
    "y_train = keras.utils.to_categorical(y_train, num_classes=10)\n",
    "y_test = keras.utils.to_categorical(y_test, num_classes=10)\n",
    "\n",
    "print(f\"Shape of y_train after one-hot encoding: {y_train.shape}\")\n",
    "print(f\"Shape of y_test after one-hot encoding: {y_test.shape}\")\n",
    "print(f\"Example of one-hot encoded label (first training label): {y_train[0]}\")"
   ]
  },
  {
   "cell_type": "code",
   "execution_count": 5,
   "id": "f94261c7",
   "metadata": {},
   "outputs": [
    {
     "name": "stdout",
     "output_type": "stream",
     "text": [
      "WARNING:tensorflow:From c:\\Users\\shwet\\AppData\\Local\\Programs\\Python\\Python311\\Lib\\site-packages\\keras\\src\\backend.py:873: The name tf.get_default_graph is deprecated. Please use tf.compat.v1.get_default_graph instead.\n",
      "\n",
      "Model: \"sequential\"\n",
      "_________________________________________________________________\n",
      " Layer (type)                Output Shape              Param #   \n",
      "=================================================================\n",
      " flatten (Flatten)           (None, 784)               0         \n",
      "                                                                 \n",
      " dense (Dense)               (None, 8)                 6280      \n",
      "                                                                 \n",
      " dense_1 (Dense)             (None, 10)                90        \n",
      "                                                                 \n",
      "=================================================================\n",
      "Total params: 6370 (24.88 KB)\n",
      "Trainable params: 6370 (24.88 KB)\n",
      "Non-trainable params: 0 (0.00 Byte)\n",
      "_________________________________________________________________\n"
     ]
    }
   ],
   "source": [
    "# Define the Neural Network Model\n",
    "from keras.models import Sequential\n",
    "from keras.layers import Dense, Flatten\n",
    "\n",
    "model = Sequential([\n",
    "    Flatten(input_shape=(28, 28, 1)), # Input layer: Flattens 28x28x1 images to a 784-element vector\n",
    "    Dense(8, activation='relu'),   # Hidden layer: 32 neurons with ReLU activation\n",
    "    Dense(10, activation='softmax')  # Output layer: 10 neurons (for 10 classes) with Softmax activation\n",
    "])\n",
    "\n",
    "model.summary()"
   ]
  },
  {
   "cell_type": "code",
   "execution_count": 6,
   "id": "d16e78dd",
   "metadata": {},
   "outputs": [
    {
     "name": "stdout",
     "output_type": "stream",
     "text": [
      "WARNING:tensorflow:From c:\\Users\\shwet\\AppData\\Local\\Programs\\Python\\Python311\\Lib\\site-packages\\keras\\src\\optimizers\\__init__.py:309: The name tf.train.Optimizer is deprecated. Please use tf.compat.v1.train.Optimizer instead.\n",
      "\n",
      "Model compiled successfully with Adam optimizer, Categorical Crossentropy loss, and Accuracy metric.\n"
     ]
    }
   ],
   "source": [
    "# Compile the Model\n",
    "model.compile(optimizer='adam',\n",
    "              loss='categorical_crossentropy',\n",
    "              metrics=['accuracy'])\n",
    "\n",
    "print(\"Model compiled successfully with Adam optimizer, Categorical Crossentropy loss, and Accuracy metric.\")"
   ]
  },
  {
   "cell_type": "code",
   "execution_count": 7,
   "id": "2b88313e",
   "metadata": {},
   "outputs": [
    {
     "name": "stdout",
     "output_type": "stream",
     "text": [
      "\n",
      "Starting model training...\n",
      "Epoch 1/10\n",
      "WARNING:tensorflow:From c:\\Users\\shwet\\AppData\\Local\\Programs\\Python\\Python311\\Lib\\site-packages\\keras\\src\\utils\\tf_utils.py:492: The name tf.ragged.RaggedTensorValue is deprecated. Please use tf.compat.v1.ragged.RaggedTensorValue instead.\n",
      "\n",
      "WARNING:tensorflow:From c:\\Users\\shwet\\AppData\\Local\\Programs\\Python\\Python311\\Lib\\site-packages\\keras\\src\\engine\\base_layer_utils.py:384: The name tf.executing_eagerly_outside_functions is deprecated. Please use tf.compat.v1.executing_eagerly_outside_functions instead.\n",
      "\n",
      "235/235 [==============================] - 1s 2ms/step - loss: 1.1253 - accuracy: 0.6677 - val_loss: 0.5332 - val_accuracy: 0.8645\n",
      "Epoch 2/10\n",
      "235/235 [==============================] - 0s 1ms/step - loss: 0.4686 - accuracy: 0.8752 - val_loss: 0.3948 - val_accuracy: 0.8922\n",
      "Epoch 3/10\n",
      "235/235 [==============================] - 0s 1ms/step - loss: 0.3884 - accuracy: 0.8936 - val_loss: 0.3515 - val_accuracy: 0.9033\n",
      "Epoch 4/10\n",
      "235/235 [==============================] - 0s 1ms/step - loss: 0.3542 - accuracy: 0.9012 - val_loss: 0.3288 - val_accuracy: 0.9094\n",
      "Epoch 5/10\n",
      "235/235 [==============================] - 0s 1ms/step - loss: 0.3322 - accuracy: 0.9072 - val_loss: 0.3148 - val_accuracy: 0.9127\n",
      "Epoch 6/10\n",
      "235/235 [==============================] - 0s 1ms/step - loss: 0.3188 - accuracy: 0.9108 - val_loss: 0.3013 - val_accuracy: 0.9166\n",
      "Epoch 7/10\n",
      "235/235 [==============================] - 0s 1ms/step - loss: 0.3073 - accuracy: 0.9142 - val_loss: 0.2951 - val_accuracy: 0.9184\n",
      "Epoch 8/10\n",
      "235/235 [==============================] - 0s 1ms/step - loss: 0.2986 - accuracy: 0.9164 - val_loss: 0.2911 - val_accuracy: 0.9188\n",
      "Epoch 9/10\n",
      "235/235 [==============================] - 0s 1ms/step - loss: 0.2924 - accuracy: 0.9183 - val_loss: 0.2839 - val_accuracy: 0.9199\n",
      "Epoch 10/10\n",
      "235/235 [==============================] - 0s 1ms/step - loss: 0.2862 - accuracy: 0.9206 - val_loss: 0.2817 - val_accuracy: 0.9223\n",
      "\n",
      "Model training completed.\n"
     ]
    }
   ],
   "source": [
    "# Train the Model\n",
    "print(\"\\nStarting model training...\")\n",
    "history = model.fit(\n",
    "    x_train, y_train,\n",
    "    epochs=10,        # Number of times to iterate over the entire training dataset\n",
    "    batch_size=256,   # Number of samples per gradient update\n",
    "    validation_data=(x_test, y_test) # Data to evaluate the loss and metrics on at the end of each epoch\n",
    ")\n",
    "\n",
    "print(\"\\nModel training completed.\")"
   ]
  },
  {
   "cell_type": "code",
   "execution_count": 8,
   "id": "ffc97f5c",
   "metadata": {},
   "outputs": [
    {
     "name": "stdout",
     "output_type": "stream",
     "text": [
      "\n",
      "Evaluating model on test data...\n",
      "Test Loss: 0.2817\n",
      "Test Accuracy: 0.9223\n",
      "\n",
      "Making predictions on a few test images...\n",
      "1/1 [==============================] - 0s 56ms/step\n"
     ]
    },
    {
     "data": {
      "image/png": "[encoded data removed]",
      "text/plain": [
       "<Figure size 1000x400 with 5 Axes>"
      ]
     },
     "metadata": {},
     "output_type": "display_data"
    },
    {
     "name": "stdout",
     "output_type": "stream",
     "text": [
      "\n",
      "Inference test completed. Predicted vs. True labels for 5 samples displayed.\n"
     ]
    }
   ],
   "source": [
    "import numpy as np\n",
    "import matplotlib.pyplot as plt\n",
    "\n",
    "# Evaluate the model on the test data\n",
    "print(\"\\nEvaluating model on test data...\")\n",
    "loss, accuracy = model.evaluate(x_test, y_test, verbose=0)\n",
    "print(f\"Test Loss: {loss:.4f}\")\n",
    "print(f\"Test Accuracy: {accuracy:.4f}\")\n",
    "\n",
    "# Predict a few test images\n",
    "print(\"\\nMaking predictions on a few test images...\")\n",
    "predictions = model.predict(x_test[:5]) # Predict on the first 5 test images\n",
    "\n",
    "# Display images and predictions\n",
    "plt.figure(figsize=(10, 4))\n",
    "for i in range(5):\n",
    "    plt.subplot(1, 5, i + 1)\n",
    "    plt.imshow(x_test[i].reshape(28, 28), cmap='gray')\n",
    "    plt.title(f\"True: {np.argmax(y_test[i])}\\nPred: {np.argmax(predictions[i])}\")\n",
    "    plt.axis('off')\n",
    "plt.tight_layout()\n",
    "plt.show()\n",
    "\n",
    "print(\"\\nInference test completed. Predicted vs. True labels for 5 samples displayed.\")"
   ]
  },
  {
   "cell_type": "code",
   "execution_count": 9,
   "id": "08091bc1",
   "metadata": {},
   "outputs": [
    {
     "name": "stdout",
     "output_type": "stream",
     "text": [
      "\n",
      "Model File Size: 102336 bytes (99.94 KB, 0.10 MB)\n",
      "Total Model Parameters: 6370\n",
      "Estimated Memory for Weights (float32): 25480 bytes (24.88 KB, 0.02 MB)\n",
      "Estimated Peak Activation Memory for single inference: 6824 bytes (6.66 KB)\n"
     ]
    },
    {
     "name": "stderr",
     "output_type": "stream",
     "text": [
      "c:\\Users\\shwet\\AppData\\Local\\Programs\\Python\\Python311\\Lib\\site-packages\\keras\\src\\engine\\training.py:3103: UserWarning: You are saving your model as an HDF5 file via `model.save()`. This file format is considered legacy. We recommend using instead the native Keras format, e.g. `model.save('my_model.keras')`.\n",
      "  saving_api.save_model(\n"
     ]
    }
   ],
   "source": [
    "import os\n",
    "\n",
    "# Calculate model memory footprint\n",
    "# Save the model to a temporary file to get its size on disk\n",
    "model_filename = \"mnist_baseline_model.h5\"\n",
    "model.save(model_filename)\n",
    "model_size_bytes = os.path.getsize(model_filename)\n",
    "model_size_kb = model_size_bytes / 1024\n",
    "model_size_mb = model_size_kb / 1024\n",
    "\n",
    "print(f\"\\nModel File Size: {model_size_bytes} bytes ({model_size_kb:.2f} KB, {model_size_mb:.2f} MB)\")\n",
    "\n",
    "# To remove the temporary file after checking its size\n",
    "os.remove(model_filename)\n",
    "\n",
    "# Estimate memory for inference (weights and activations)\n",
    "# Parameters (weights and biases) are already calculated in model.summary()\n",
    "total_params = model.count_params()\n",
    "# Assuming float32 (4 bytes per parameter)\n",
    "weights_memory_bytes = total_params * 4\n",
    "weights_memory_kb = weights_memory_bytes / 1024\n",
    "weights_memory_mb = weights_memory_kb / 1024\n",
    "\n",
    "print(f\"Total Model Parameters: {total_params}\")\n",
    "print(f\"Estimated Memory for Weights (float32): {weights_memory_bytes} bytes ({weights_memory_kb:.2f} KB, {weights_memory_mb:.2f} MB)\")\n",
    "\n",
    "# Estimating activation memory for a single inference:\n",
    "# Input layer: 28*28*1 * 4 bytes/pixel (float32)\n",
    "# Flatten layer output: 784 * 4 bytes\n",
    "# Dense layer 1 output: 128 * 4 bytes\n",
    "# Dense layer 2 output: 10 * 4 bytes\n",
    "input_mem = 28 * 28 * 1 * 4\n",
    "flatten_output_mem = 784 * 4\n",
    "dense1_output_mem = 128 * 4\n",
    "dense2_output_mem = 10 * 4\n",
    "total_activation_mem_single_inference = input_mem + flatten_output_mem + dense1_output_mem + dense2_output_mem\n",
    "\n",
    "print(f\"Estimated Peak Activation Memory for single inference: {total_activation_mem_single_inference} bytes ({total_activation_mem_single_inference / 1024:.2f} KB)\")"
   ]
  },
  {
   "cell_type": "code",
   "execution_count": 10,
   "id": "15769287",
   "metadata": {},
   "outputs": [
    {
     "name": "stdout",
     "output_type": "stream",
     "text": [
      "\n",
      "Model File Size: 102336 bytes (99.94 KB, 0.10 MB)\n",
      "\n",
      "Keras model saved to mnist_baseline_model.keras\n",
      "INFO:tensorflow:Assets written to: C:\\Users\\shwet\\AppData\\Local\\Temp\\tmpm76x_1c3\\assets\n"
     ]
    },
    {
     "name": "stderr",
     "output_type": "stream",
     "text": [
      "INFO:tensorflow:Assets written to: C:\\Users\\shwet\\AppData\\Local\\Temp\\tmpm76x_1c3\\assets\n",
      "c:\\Users\\shwet\\AppData\\Local\\Programs\\Python\\Python311\\Lib\\site-packages\\tensorflow\\lite\\python\\convert.py:953: UserWarning: Statistics for quantized inputs were expected, but not specified; continuing anyway.\n",
      "  warnings.warn(\n"
     ]
    },
    {
     "name": "stdout",
     "output_type": "stream",
     "text": [
      "\n",
      "Quantized TFLite model saved to mnist_quantized_model.tflite\n",
      "Quantized TFLite Model Size: 8736 bytes (8.53 KB)\n",
      "Cleaned up temporary Keras model file: mnist_baseline_model.keras\n"
     ]
    }
   ],
   "source": [
    "import os\n",
    "\n",
    "# Calculate model memory footprint\n",
    "# Save the model to a temporary file to get its size on disk\n",
    "model_filename = \"mnist_baseline_model.h5\"\n",
    "model.save(model_filename)\n",
    "model_size_bytes = os.path.getsize(model_filename)\n",
    "model_size_kb = model_size_bytes / 1024\n",
    "model_size_mb = model_size_kb / 1024\n",
    "\n",
    "print(f\"\\nModel File Size: {model_size_bytes} bytes ({model_size_kb:.2f} KB, {model_size_mb:.2f} MB)\")\n",
    "\n",
    "# To remove the temporary file after checking its size\n",
    "os.remove(model_filename)\n",
    "\n",
    "# Convert the Keras model to a TensorFlow Lite model with full integer quantization\n",
    "\n",
    "# Re-save the model in the native Keras format (recommended by TensorFlow warning)\n",
    "keras_model_path = \"mnist_baseline_model.keras\"\n",
    "model.save(keras_model_path)\n",
    "print(f\"\\nKeras model saved to {keras_model_path}\")\n",
    "\n",
    "# Load the model from the native Keras format for conversion\n",
    "loaded_model = keras.models.load_model(keras_model_path)\n",
    "\n",
    "# Create a TensorFlow Lite converter\n",
    "converter = tf.lite.TFLiteConverter.from_keras_model(loaded_model)\n",
    "\n",
    "# Enable full integer quantization\n",
    "# This will quantize weights and activations to int8.\n",
    "# It requires a representative dataset for calibration to determine min/max ranges for activations.\n",
    "converter.optimizations = [tf.lite.Optimize.DEFAULT]\n",
    "converter.target_spec.supported_ops = [tf.lite.OpsSet.TFLITE_BUILTINS_INT8]\n",
    "\n",
    "# Provide a representative dataset for calibration\n",
    "# The representative dataset should consist of a small subset of your training data.\n",
    "# TFLite uses this to calibrate the dynamic ranges for activations.\n",
    "def representative_data_gen():\n",
    "    for input_value in x_train: # Using x_train, which is already normalized and reshaped\n",
    "        yield [input_value]\n",
    "\n",
    "converter.representative_dataset = representative_data_gen\n",
    "\n",
    "# Ensure that input and output tensors are also quantized to int8\n",
    "converter.inference_input_type = tf.int8\n",
    "converter.inference_output_type = tf.int8\n",
    "\n",
    "# Convert the model\n",
    "tflite_model_quant = converter.convert()\n",
    "\n",
    "# Save the quantized TFLite model\n",
    "tflite_model_quant_filename = \"mnist_quantized_model.tflite\"\n",
    "with open(tflite_model_quant_filename, \"wb\") as f:\n",
    "    f.write(tflite_model_quant)\n",
    "\n",
    "print(f\"\\nQuantized TFLite model saved to {tflite_model_quant_filename}\")\n",
    "\n",
    "# Optional: Check the size of the quantized model\n",
    "tflite_model_quant_size_bytes = os.path.getsize(tflite_model_quant_filename)\n",
    "tflite_model_quant_size_kb = tflite_model_quant_size_bytes / 1024\n",
    "print(f\"Quantized TFLite Model Size: {tflite_model_quant_size_bytes} bytes ({tflite_model_quant_size_kb:.2f} KB)\")\n",
    "\n",
    "# Clean up the temporary .keras file\n",
    "os.remove(keras_model_path)\n",
    "print(f\"Cleaned up temporary Keras model file: {keras_model_path}\")"
   ]
  },
  {
   "cell_type": "code",
   "execution_count": 11,
   "id": "f1aa5ca6",
   "metadata": {},
   "outputs": [
    {
     "name": "stdout",
     "output_type": "stream",
     "text": [
      "\n",
      "C header file generated: mnist_model_data.h\n",
      "This file contains the quantized model as a byte array, ready for embedded C inclusion.\n"
     ]
    }
   ],
   "source": [
    "# Generate a .h file for the quantized TFLite model\n",
    "\n",
    "import os\n",
    "\n",
    "tflite_model_quant_filename = \"mnist_quantized_model.tflite\"\n",
    "c_model_filename = \"mnist_model_data.h\"\n",
    "\n",
    "# Read the TFLite model file as bytes\n",
    "with open(tflite_model_quant_filename, \"rb\") as f:\n",
    "    tflite_model_bytes = f.read()\n",
    "\n",
    "# Convert bytes to a C-style array declaration\n",
    "# Format: const unsigned char model_name[] = { 0x.., 0x.., ... };\n",
    "bytes_as_hex = [f\"0x{byte:02x}\" for byte in tflite_model_bytes]\n",
    "c_array_declaration = f\"const unsigned char {os.path.basename(tflite_model_quant_filename).replace('.', '_')}_data[] = {{\\n    \"\n",
    "c_array_declaration += \", \".join(bytes_as_hex)\n",
    "c_array_declaration += \"\\n};\\n\"\n",
    "c_array_declaration += f\"const int {os.path.basename(tflite_model_quant_filename).replace('.', '_')}_len = {len(tflite_model_bytes)};\\n\"\n",
    "\n",
    "# Write the C array declaration to the .h file\n",
    "with open(c_model_filename, \"w\") as f:\n",
    "    f.write(\"#ifndef MNIST_MODEL_DATA_H_\\n\")\n",
    "    f.write(\"#define MNIST_MODEL_DATA_H_\\n\\n\")\n",
    "    f.write(c_array_declaration)\n",
    "    f.write(\"\\n#endif // MNIST_MODEL_DATA_H_\\n\")\n",
    "\n",
    "print(f\"\\nC header file generated: {c_model_filename}\")\n",
    "print(f\"This file contains the quantized model as a byte array, ready for embedded C inclusion.\")"
   ]
  },
  {
   "cell_type": "code",
   "execution_count": 14,
   "id": "4a04561c",
   "metadata": {},
   "outputs": [
    {
     "name": "stdout",
     "output_type": "stream",
     "text": [
      "Loading TFLite model from: mnist_quantized_model.tflite\n",
      "Inspecting operator: op_name=RESHAPE, builtin_code=None, inputs=[0 1], outputs=[6]\n",
      "Inspecting operator: op_name=FULLY_CONNECTED, builtin_code=None, inputs=[6 5 4], outputs=[7]\n",
      "Processing FULLY_CONNECTED layer 1...\n",
      "Inspecting operator: op_name=FULLY_CONNECTED, builtin_code=None, inputs=[7 3 2], outputs=[8]\n",
      "Processing FULLY_CONNECTED layer 2...\n",
      "Inspecting operator: op_name=SOFTMAX, builtin_code=None, inputs=[8], outputs=[9]\n",
      "Inspecting operator: op_name=DELEGATE, builtin_code=None, inputs=[0 1 2 3 4 5], outputs=[8]\n",
      "Generating quantized sample inputs and labels...\n",
      "Generated mnist_model_params.h and mnist_model_params.c with model parameters and sample inputs.\n",
      "Generated mnist_model_params.h and mnist_model_params.c with model parameters and sample inputs.\n"
     ]
    }
   ],
   "source": [
    "import tensorflow as tf\n",
    "import numpy as np\n",
    "import os\n",
    "\n",
    "# --- Configuration ---\n",
    "# Path to your quantized TFLite model generated by mnist_baseline_model.ipynb\n",
    "TFLITE_MODEL_PATH = \"mnist_quantized_model.tflite\"\n",
    "\n",
    "# Output C header and source files\n",
    "C_HEADER_FILE = \"mnist_model_params.h\"\n",
    "C_SOURCE_FILE = \"mnist_model_params.c\"\n",
    "\n",
    "# --- Helper function for quantization of input data ---\n",
    "def quantize_input(image_data_float32, scale, zero_point):\n",
    "    \"\"\"\n",
    "    Quantizes float32 input data to int8 using the given scale and zero_point.\n",
    "    Formula: Q = round(R / S + Z)\n",
    "    \"\"\"\n",
    "    quantized_data = np.round(image_data_float32 / scale + zero_point)\n",
    "    # Clip to int8 range [-128, 127]\n",
    "    quantized_data = np.clip(quantized_data, -128, 127).astype(np.int8)\n",
    "    return quantized_data\n",
    "\n",
    "# --- Main generation function ---\n",
    "def generate_c_arrays_from_tflite(model_path, header_file, source_file):\n",
    "    print(f\"Loading TFLite model from: {model_path}\")\n",
    "    interpreter = tf.lite.Interpreter(model_path=model_path)\n",
    "    interpreter.allocate_tensors()\n",
    "\n",
    "    # Get model details\n",
    "    input_details = interpreter.get_input_details()\n",
    "    output_details = interpreter.get_output_details()\n",
    "    tensor_details = interpreter.get_tensor_details()\n",
    "\n",
    "    # Get operator details. This method is usually reliable.\n",
    "    # The structure of elements in this list can vary by TF Lite version.\n",
    "    # Each element is a dictionary representing an operator.\n",
    "    ops_details_raw = interpreter._get_ops_details()\n",
    "\n",
    "    # Open header and source files\n",
    "    with open(header_file, \"w\") as hf, open(source_file, \"w\") as sf:\n",
    "        hf.write(\"/*\\n\")\n",
    "        hf.write(\" * This file is auto-generated by generate_c_model_params.py.\\n\")\n",
    "        hf.write(\" * Do not modify manually.\\n\")\n",
    "        hf.write(\" */\\n\")\n",
    "        hf.write(\"#ifndef MNIST_MODEL_PARAMS_H\\n\")\n",
    "        hf.write(\"#define MNIST_MODEL_PARAMS_H\\n\\n\")\n",
    "        hf.write(\"#include <stdint.h>\\n\\n\")\n",
    "\n",
    "        sf.write(\"/*\\n\")\n",
    "        sf.write(\" * This file is auto-generated by generate_c_model_params.py.\\n\")\n",
    "        sf.write(\" * Do not modify manually.\\n\")\n",
    "        sf.write(\" */\\n\")\n",
    "        sf.write(\"#include \\\"mnist_model_params.h\\\"\\n\\n\")\n",
    "\n",
    "        # Define MAX_N_ACTIVATIONS based on the model's input size (28*28 for MNIST)\n",
    "        hf.write(f\"#define MAX_N_ACTIVATIONS {input_details[0]['shape'][1] * input_details[0]['shape'][2]}\\n\\n\")\n",
    "\n",
    "        layer_idx = 1\n",
    "        for op_detail in ops_details_raw:\n",
    "            # Safely get operator name and builtin code\n",
    "            current_op_name = op_detail.get('op_name')\n",
    "            current_builtin_code = op_detail.get('builtin_code')\n",
    "\n",
    "            print(f\"Inspecting operator: op_name={current_op_name}, builtin_code={current_builtin_code}, inputs={op_detail.get('inputs')}, outputs={op_detail.get('outputs')}\")\n",
    "\n",
    "            # Check if it's a FULLY_CONNECTED layer\n",
    "            # BuiltinOperator.FULLY_CONNECTED typically has builtin_code 9\n",
    "            # or op_name 'FULLY_CONNECTED'\n",
    "            is_fully_connected = False\n",
    "            if current_op_name == 'FULLY_CONNECTED':\n",
    "                is_fully_connected = True\n",
    "            elif current_builtin_code == 9: # Known builtin_code for FULLY_CONNECTED\n",
    "                is_fully_connected = True\n",
    "\n",
    "            if is_fully_connected:\n",
    "                print(f\"Processing FULLY_CONNECTED layer {layer_idx}...\")\n",
    "\n",
    "                # Input, Weights, Bias tensors are identified by their indices in op_detail['inputs']\n",
    "                # TFLite FULLY_CONNECTED op inputs: [input_tensor, weights_tensor, bias_tensor (optional)]\n",
    "                input_tensor_idx = op_detail['inputs'][0]\n",
    "                weights_tensor_idx = op_detail['inputs'][1]\n",
    "                biases_tensor_idx = op_detail['inputs'][2] if len(op_detail['inputs']) > 2 else -1\n",
    "                output_tensor_idx = op_detail['outputs'][0]\n",
    "\n",
    "                # Find the corresponding tensor details\n",
    "                input_tensor = next(t for t in tensor_details if t['index'] == input_tensor_idx)\n",
    "                weights_tensor = next(t for t in tensor_details if t['index'] == weights_tensor_idx)\n",
    "                output_tensor = next(t for t in tensor_details if t['index'] == output_tensor_idx)\n",
    "\n",
    "                # Extract actual data\n",
    "                weights_data = interpreter.tensor(weights_tensor_idx)()\n",
    "                biases_data = interpreter.tensor(biases_tensor_idx)() if biases_tensor_idx != -1 else None\n",
    "\n",
    "                # Extract quantization parameters\n",
    "                # Use .get() and check for empty lists to prevent IndexError\n",
    "                input_scale = input_tensor['quantization_parameters'].get('scales', [1.0])[0]\n",
    "                input_zero_point = input_tensor['quantization_parameters'].get('zero_points', [0])[0]\n",
    "                output_scale = output_tensor['quantization_parameters'].get('scales', [1.0])[0]\n",
    "                output_zero_point = output_tensor['quantization_parameters'].get('zero_points', [0])[0]\n",
    "                weights_scale = weights_tensor['quantization_parameters'].get('scales', [1.0])[0]\n",
    "                weights_zero_point = weights_tensor['quantization_parameters'].get('zero_points', [0])[0]\n",
    "\n",
    "                # Determine incoming and outgoing weights (dimensions)\n",
    "                incoming_weights = weights_tensor['shape'][1]\n",
    "                outgoing_weights = weights_tensor['shape'][0]\n",
    "\n",
    "                # Pack 8-bit weights into uint32_t. Each uint32_t holds 4 int8 weights.\n",
    "                packed_weights = []\n",
    "                flat_weights = weights_data.flatten()\n",
    "                # Pad with zeros if not a multiple of 4\n",
    "                if len(flat_weights) % 4 != 0:\n",
    "                    flat_weights = np.pad(flat_weights, (0, 4 - (len(flat_weights) % 4)), 'constant', constant_values=0)\n",
    "\n",
    "                for i in range(0, len(flat_weights), 4):\n",
    "                    val = 0\n",
    "                    for j in range(4):\n",
    "                        # Convert int8 to unsigned byte for packing, then shift\n",
    "                        # Ensure the value is treated as unsigned before shifting for packing\n",
    "                        val |= (np.uint32(flat_weights[i+j].astype(np.uint8)) << (24 - j*8))\n",
    "                    packed_weights.append(f\"0x{val:08X}\")\n",
    "\n",
    "                # Biases are typically int32 for quantized models\n",
    "                biases_hex = [f\"{b}\" for b in biases_data] if biases_data is not None else [] # Use decimal for int32_t\n",
    "\n",
    "                # Write declarations to header\n",
    "                hf.write(f\"// Layer {layer_idx} Parameters\\n\")\n",
    "                hf.write(f\"extern const uint32_t L{layer_idx}_weights[{len(packed_weights)}];\\n\")\n",
    "                if biases_data is not None:\n",
    "                    hf.write(f\"extern const int32_t L{layer_idx}_biases[{len(biases_hex)}];\\n\")\n",
    "                hf.write(f\"extern const int32_t L{layer_idx}_bitperweight;\\n\")\n",
    "                hf.write(f\"extern const uint32_t L{layer_idx}_incoming_weights;\\n\")\n",
    "                hf.write(f\"extern const uint32_t L{layer_idx}_outgoing_weights;\\n\")\n",
    "                hf.write(f\"extern const float L{layer_idx}_input_scale;\\n\")\n",
    "                hf.write(f\"extern const int32_t L{layer_idx}_input_zero_point;\\n\")\n",
    "                hf.write(f\"extern const float L{layer_idx}_output_scale;\\n\")\n",
    "                hf.write(f\"extern const int32_t L{layer_idx}_output_zero_point;\\n\")\n",
    "                hf.write(f\"extern const float L{layer_idx}_weights_scale;\\n\")\n",
    "                hf.write(f\"extern const int32_t L{layer_idx}_weights_zero_point;\\n\\n\")\n",
    "\n",
    "                # Write definitions to source file\n",
    "                sf.write(f\"// Layer {layer_idx} Parameters\\n\")\n",
    "                sf.write(f\"const uint32_t L{layer_idx}_weights[{len(packed_weights)}] = {{\\n    {', '.join(packed_weights)}\\n}};\\n\")\n",
    "                if biases_data is not None:\n",
    "                    sf.write(f\"const int32_t L{layer_idx}_biases[{len(biases_hex)}] = {{\\n    {', '.join(biases_hex)}\\n}};\\n\")\n",
    "                sf.write(f\"const int32_t L{layer_idx}_bitperweight = 8 + 8;\\n\") # Hardcoding to 8+8 for TFLite int8\n",
    "                sf.write(f\"const uint32_t L{layer_idx}_incoming_weights = {incoming_weights};\\n\")\n",
    "                sf.write(f\"const uint32_t L{layer_idx}_outgoing_weights = {outgoing_weights};\\n\")\n",
    "                sf.write(f\"const float L{layer_idx}_input_scale = {input_scale:.8f}f;\\n\")\n",
    "                sf.write(f\"const int32_t L{layer_idx}_input_zero_point = {input_zero_point};\\n\")\n",
    "                sf.write(f\"const float L{layer_idx}_output_scale = {output_scale:.8f}f;\\n\")\n",
    "                sf.write(f\"const int32_t L{layer_idx}_output_zero_point = {output_zero_point};\\n\")\n",
    "                sf.write(f\"const float L{layer_idx}_weights_scale = {weights_scale:.8f}f;\\n\")\n",
    "                sf.write(f\"const int32_t L{layer_idx}_weights_zero_point = {weights_zero_point};\\n\\n\")\n",
    "\n",
    "                layer_idx += 1\n",
    "\n",
    "        # Generate quantized sample inputs and labels\n",
    "        print(\"Generating quantized sample inputs and labels...\")\n",
    "        # Load original MNIST test data (from Keras/TensorFlow) for true input images\n",
    "        (_, _), (x_test_raw, y_test_raw) = tf.keras.datasets.mnist.load_data()\n",
    "\n",
    "        # Preprocess as done in the notebook: normalize to [0, 1] then flatten\n",
    "        x_test_processed = x_test_raw.reshape(-1, 28, 28, 1).astype(\"float32\") / 255.0\n",
    "\n",
    "        # Get input quantization parameters from the *quantized model's* input tensor\n",
    "        # This is the input tensor of the *first* layer in the TFLite model\n",
    "        model_input_details = interpreter.get_input_details()[0]\n",
    "        model_input_scale = model_input_details['quantization_parameters'].get('scales', [1.0])[0]\n",
    "        model_input_zero_point = model_input_details['quantization_parameters'].get('zero_points', [0])[0]\n",
    "\n",
    "        num_samples_to_generate = 4 # As used in main.c\n",
    "        hf.write(\"// Quantized sample input images and their labels\\n\")\n",
    "        sf.write(\"// Quantized sample input images and their labels\\n\")\n",
    "\n",
    "        for i in range(num_samples_to_generate):\n",
    "            # Flatten the preprocessed float32 image\n",
    "            original_image_float = x_test_processed[i].flatten() # This will be 784 elements\n",
    "\n",
    "            # Quantize\n",
    "            quantized_image_int8 = quantize_input(original_image_float, model_input_scale, model_input_zero_point)\n",
    "\n",
    "            label = y_test_raw[i]\n",
    "\n",
    "            # Format for C array\n",
    "            image_c_array_content = ', '.join([f\"{val}\" for val in quantized_image_int8])\n",
    "\n",
    "            hf.write(f\"extern const int8_t input_data_{i}[{len(quantized_image_int8)}];\\n\")\n",
    "            hf.write(f\"extern const uint8_t label_{i};\\n\")\n",
    "            sf.write(f\"const int8_t input_data_{i}[{len(quantized_image_int8)}] = {{\\n    {image_c_array_content}\\n}};\\n\")\n",
    "            sf.write(f\"const uint8_t label_{i} = {label};\\n\")\n",
    "\n",
    "        hf.write(\"\\n#endif // MNIST_MODEL_PARAMS_H\\n\")\n",
    "\n",
    "    print(f\"Generated {header_file} and {source_file} with model parameters and sample inputs.\")\n",
    "\n",
    "# --- Script execution ---\n",
    "if __name__ == \"__main__\":\n",
    "    if not os.path.exists(TFLITE_MODEL_PATH):\n",
    "        print(f\"Error: Quantized TFLite model not found at {TFLITE_MODEL_PATH}.\")\n",
    "        print(\"Please ensure you have run the `mnist_baseline_model.ipynb` notebook\")\n",
    "        print(\"to generate `mnist_quantized_model.tflite` before running this script.\")\n",
    "    else:\n",
    "        generate_c_arrays_from_tflite(TFLITE_MODEL_PATH, C_HEADER_FILE, C_SOURCE_FILE)"
   ]
  }
 ],
 "metadata": {
  "kernelspec": {
   "display_name": "Python 3",
   "language": "python",
   "name": "python3"
  },
  "language_info": {
   "codemirror_mode": {
    "name": "ipython",
    "version": 3
   },
   "file_extension": ".py",
   "mimetype": "text/x-python",
   "name": "python",
   "nbconvert_exporter": "python",
   "pygments_lexer": "ipython3",
   "version": "3.11.6"
  }
 },
 "nbformat": 4,
 "nbformat_minor": 5
}
